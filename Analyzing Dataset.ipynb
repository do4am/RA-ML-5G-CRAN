{
 "cells": [
  {
   "cell_type": "code",
   "execution_count": 1,
   "metadata": {},
   "outputs": [],
   "source": [
    "#!/usr/bin/python2\n",
    "%matplotlib inline\n",
    "import numpy as np\n",
    "import matplotlib.pyplot as plt\n",
    "import pandas as pd\n",
    "from scipy.io import loadmat\n",
    "from datetime import datetime, date, time"
   ]
  },
  {
   "cell_type": "code",
   "execution_count": 2,
   "metadata": {},
   "outputs": [
    {
     "data": {
      "text/plain": [
       "(138517, 2)"
      ]
     },
     "execution_count": 2,
     "metadata": {},
     "output_type": "execute_result"
    }
   ],
   "source": [
    "# import features (x,y)-coordinate\n",
    "mat_features = loadmat('')  # load mat-file\n",
    "df_features = pd.DataFrame({'pos_x' : mat_features['pos_x'][:,1], 'pos_y' : mat_features['pos_y'][:,1]})\n",
    "df_features.shape"
   ]
  },
  {
   "cell_type": "code",
   "execution_count": 3,
   "metadata": {},
   "outputs": [
    {
     "data": {
      "text/html": [
       "<div>\n",
       "<style scoped>\n",
       "    .dataframe tbody tr th:only-of-type {\n",
       "        vertical-align: middle;\n",
       "    }\n",
       "\n",
       "    .dataframe tbody tr th {\n",
       "        vertical-align: top;\n",
       "    }\n",
       "\n",
       "    .dataframe thead th {\n",
       "        text-align: right;\n",
       "    }\n",
       "</style>\n",
       "<table border=\"1\" class=\"dataframe\">\n",
       "  <thead>\n",
       "    <tr style=\"text-align: right;\">\n",
       "      <th></th>\n",
       "      <th>pos_x</th>\n",
       "      <th>pos_y</th>\n",
       "    </tr>\n",
       "  </thead>\n",
       "  <tbody>\n",
       "    <tr>\n",
       "      <th>0</th>\n",
       "      <td>140.153000</td>\n",
       "      <td>116.778000</td>\n",
       "    </tr>\n",
       "    <tr>\n",
       "      <th>1</th>\n",
       "      <td>139.514999</td>\n",
       "      <td>102.313004</td>\n",
       "    </tr>\n",
       "    <tr>\n",
       "      <th>2</th>\n",
       "      <td>135.598999</td>\n",
       "      <td>113.057999</td>\n",
       "    </tr>\n",
       "    <tr>\n",
       "      <th>3</th>\n",
       "      <td>135.391998</td>\n",
       "      <td>104.260002</td>\n",
       "    </tr>\n",
       "    <tr>\n",
       "      <th>4</th>\n",
       "      <td>135.697006</td>\n",
       "      <td>112.859001</td>\n",
       "    </tr>\n",
       "  </tbody>\n",
       "</table>\n",
       "</div>"
      ],
      "text/plain": [
       "        pos_x       pos_y\n",
       "0  140.153000  116.778000\n",
       "1  139.514999  102.313004\n",
       "2  135.598999  113.057999\n",
       "3  135.391998  104.260002\n",
       "4  135.697006  112.859001"
      ]
     },
     "execution_count": 3,
     "metadata": {},
     "output_type": "execute_result"
    }
   ],
   "source": [
    "df_features.head()"
   ]
  },
  {
   "cell_type": "code",
   "execution_count": 4,
   "metadata": {},
   "outputs": [
    {
     "data": {
      "text/plain": [
       "(138517, 50)"
      ]
     },
     "execution_count": 4,
     "metadata": {},
     "output_type": "execute_result"
    }
   ],
   "source": [
    "# import classes/cluster/segmentation corresponding to each feature\n",
    "mat_classes = loadmat('')                           \n",
    "df_classes = pd.DataFrame(mat_classes['classes_library_updated'])\n",
    "df_classes.shape"
   ]
  },
  {
   "cell_type": "code",
   "execution_count": 5,
   "metadata": {
    "scrolled": true
   },
   "outputs": [
    {
     "data": {
      "text/html": [
       "<div>\n",
       "<style scoped>\n",
       "    .dataframe tbody tr th:only-of-type {\n",
       "        vertical-align: middle;\n",
       "    }\n",
       "\n",
       "    .dataframe tbody tr th {\n",
       "        vertical-align: top;\n",
       "    }\n",
       "\n",
       "    .dataframe thead th {\n",
       "        text-align: right;\n",
       "    }\n",
       "</style>\n",
       "<table border=\"1\" class=\"dataframe\">\n",
       "  <thead>\n",
       "    <tr style=\"text-align: right;\">\n",
       "      <th></th>\n",
       "      <th>0</th>\n",
       "      <th>1</th>\n",
       "      <th>2</th>\n",
       "      <th>3</th>\n",
       "      <th>4</th>\n",
       "      <th>5</th>\n",
       "      <th>6</th>\n",
       "      <th>7</th>\n",
       "      <th>8</th>\n",
       "      <th>9</th>\n",
       "      <th>...</th>\n",
       "      <th>40</th>\n",
       "      <th>41</th>\n",
       "      <th>42</th>\n",
       "      <th>43</th>\n",
       "      <th>44</th>\n",
       "      <th>45</th>\n",
       "      <th>46</th>\n",
       "      <th>47</th>\n",
       "      <th>48</th>\n",
       "      <th>49</th>\n",
       "    </tr>\n",
       "  </thead>\n",
       "  <tbody>\n",
       "    <tr>\n",
       "      <th>0</th>\n",
       "      <td>0</td>\n",
       "      <td>0</td>\n",
       "      <td>28181</td>\n",
       "      <td>28693</td>\n",
       "      <td>0</td>\n",
       "      <td>0</td>\n",
       "      <td>28197</td>\n",
       "      <td>28709</td>\n",
       "      <td>0</td>\n",
       "      <td>0</td>\n",
       "      <td>...</td>\n",
       "      <td>0</td>\n",
       "      <td>0</td>\n",
       "      <td>0</td>\n",
       "      <td>0</td>\n",
       "      <td>0</td>\n",
       "      <td>0</td>\n",
       "      <td>0</td>\n",
       "      <td>0</td>\n",
       "      <td>0</td>\n",
       "      <td>0</td>\n",
       "    </tr>\n",
       "    <tr>\n",
       "      <th>1</th>\n",
       "      <td>0</td>\n",
       "      <td>0</td>\n",
       "      <td>25651</td>\n",
       "      <td>26163</td>\n",
       "      <td>0</td>\n",
       "      <td>0</td>\n",
       "      <td>0</td>\n",
       "      <td>0</td>\n",
       "      <td>0</td>\n",
       "      <td>0</td>\n",
       "      <td>...</td>\n",
       "      <td>0</td>\n",
       "      <td>0</td>\n",
       "      <td>0</td>\n",
       "      <td>0</td>\n",
       "      <td>0</td>\n",
       "      <td>0</td>\n",
       "      <td>0</td>\n",
       "      <td>0</td>\n",
       "      <td>0</td>\n",
       "      <td>0</td>\n",
       "    </tr>\n",
       "    <tr>\n",
       "      <th>2</th>\n",
       "      <td>0</td>\n",
       "      <td>25637</td>\n",
       "      <td>0</td>\n",
       "      <td>0</td>\n",
       "      <td>0</td>\n",
       "      <td>25141</td>\n",
       "      <td>25653</td>\n",
       "      <td>26165</td>\n",
       "      <td>0</td>\n",
       "      <td>25669</td>\n",
       "      <td>...</td>\n",
       "      <td>0</td>\n",
       "      <td>0</td>\n",
       "      <td>0</td>\n",
       "      <td>0</td>\n",
       "      <td>0</td>\n",
       "      <td>0</td>\n",
       "      <td>0</td>\n",
       "      <td>0</td>\n",
       "      <td>0</td>\n",
       "      <td>0</td>\n",
       "    </tr>\n",
       "    <tr>\n",
       "      <th>3</th>\n",
       "      <td>0</td>\n",
       "      <td>23093</td>\n",
       "      <td>0</td>\n",
       "      <td>0</td>\n",
       "      <td>23109</td>\n",
       "      <td>23621</td>\n",
       "      <td>0</td>\n",
       "      <td>0</td>\n",
       "      <td>23125</td>\n",
       "      <td>23637</td>\n",
       "      <td>...</td>\n",
       "      <td>0</td>\n",
       "      <td>0</td>\n",
       "      <td>0</td>\n",
       "      <td>0</td>\n",
       "      <td>0</td>\n",
       "      <td>0</td>\n",
       "      <td>0</td>\n",
       "      <td>0</td>\n",
       "      <td>0</td>\n",
       "      <td>0</td>\n",
       "    </tr>\n",
       "    <tr>\n",
       "      <th>4</th>\n",
       "      <td>0</td>\n",
       "      <td>25637</td>\n",
       "      <td>0</td>\n",
       "      <td>0</td>\n",
       "      <td>25653</td>\n",
       "      <td>26165</td>\n",
       "      <td>0</td>\n",
       "      <td>25669</td>\n",
       "      <td>0</td>\n",
       "      <td>0</td>\n",
       "      <td>...</td>\n",
       "      <td>0</td>\n",
       "      <td>0</td>\n",
       "      <td>0</td>\n",
       "      <td>0</td>\n",
       "      <td>0</td>\n",
       "      <td>0</td>\n",
       "      <td>0</td>\n",
       "      <td>0</td>\n",
       "      <td>0</td>\n",
       "      <td>0</td>\n",
       "    </tr>\n",
       "  </tbody>\n",
       "</table>\n",
       "<p>5 rows × 50 columns</p>\n",
       "</div>"
      ],
      "text/plain": [
       "   0      1      2      3      4      5      6      7      8      9   ...  40  \\\n",
       "0   0      0  28181  28693      0      0  28197  28709      0      0  ...   0   \n",
       "1   0      0  25651  26163      0      0      0      0      0      0  ...   0   \n",
       "2   0  25637      0      0      0  25141  25653  26165      0  25669  ...   0   \n",
       "3   0  23093      0      0  23109  23621      0      0  23125  23637  ...   0   \n",
       "4   0  25637      0      0  25653  26165      0  25669      0      0  ...   0   \n",
       "\n",
       "   41  42  43  44  45  46  47  48  49  \n",
       "0   0   0   0   0   0   0   0   0   0  \n",
       "1   0   0   0   0   0   0   0   0   0  \n",
       "2   0   0   0   0   0   0   0   0   0  \n",
       "3   0   0   0   0   0   0   0   0   0  \n",
       "4   0   0   0   0   0   0   0   0   0  \n",
       "\n",
       "[5 rows x 50 columns]"
      ]
     },
     "execution_count": 5,
     "metadata": {},
     "output_type": "execute_result"
    }
   ],
   "source": [
    "df_classes.head()"
   ]
  },
  {
   "cell_type": "code",
   "execution_count": 6,
   "metadata": {},
   "outputs": [],
   "source": [
    "# df_join = pd.concat([df_features, df_classes], axis=1)\n",
    "# df_join.head()"
   ]
  },
  {
   "cell_type": "markdown",
   "metadata": {},
   "source": [
    "The input is the positions of the mobile-service-user (x-y cooridinate), the output is the BEST resource allocation (classes) corresponds to that position. \n",
    "\n",
    "However, from first observation, we can see there are more than 1 best solutions at each positions. This causes the confusion in chosing class to the user, given the fact that any of these classes give the same performance (goodput). Thus we design a criteria to choose one of among these classes. This criteria should be in favour fo the learning algorithms, i.e. improve the learnability of the learning systems."
   ]
  },
  {
   "cell_type": "markdown",
   "metadata": {},
   "source": [
    "# The unique class.\n",
    "Here I would like to know how many unique classes, and their frequency"
   ]
  },
  {
   "cell_type": "code",
   "execution_count": 7,
   "metadata": {},
   "outputs": [
    {
     "data": {
      "text/plain": [
       "137"
      ]
     },
     "execution_count": 7,
     "metadata": {},
     "output_type": "execute_result"
    }
   ],
   "source": [
    "df_classes.replace(0, np.nan, inplace=True)\n",
    "frequency = pd.value_counts(df_classes.values.flatten(), sort=True)\n",
    "len(frequency)\n",
    "# frequency.values\n",
    "# frequency.index"
   ]
  },
  {
   "cell_type": "code",
   "execution_count": 8,
   "metadata": {},
   "outputs": [
    {
     "data": {
      "text/plain": [
       "27173.0    19206\n",
       "27685.0    18891\n",
       "26661.0    16448\n",
       "26677.0    16353\n",
       "28197.0    15957\n",
       "dtype: int64"
      ]
     },
     "execution_count": 8,
     "metadata": {},
     "output_type": "execute_result"
    }
   ],
   "source": [
    "frequency.head()"
   ]
  },
  {
   "cell_type": "markdown",
   "metadata": {},
   "source": [
    "There are 137 unique classes.\n",
    "The class distribution is shown as followed:"
   ]
  },
  {
   "cell_type": "code",
   "execution_count": 9,
   "metadata": {},
   "outputs": [
    {
     "data": {
      "text/plain": [
       "Text(0.5,0,'Classes')"
      ]
     },
     "execution_count": 9,
     "metadata": {},
     "output_type": "execute_result"
    },
    {
     "data": {
      "image/png": "[encoded data removed]",
      "text/plain": [
       "<Figure size 1080x360 with 1 Axes>"
      ]
     },
     "metadata": {
      "needs_background": "light"
     },
     "output_type": "display_data"
    }
   ],
   "source": [
    "frequency.plot(kind='bar', figsize=(15, 5))\n",
    "plt.xticks(np.arange(0,136,5), label=frequency.index, rotation='vertical');\n",
    "plt.title('Class Distribution')\n",
    "plt.ylabel('Samples', fontsize=12)\n",
    "plt.xlabel('Classes', fontsize=12)"
   ]
  },
  {
   "cell_type": "markdown",
   "metadata": {},
   "source": [
    "This dataset features the imbalancing distribution of samples per class. To be specific, class 27173 has over 19000 samples while class 27701 contains merely 2 elements. The training algoirthms have tendency to be biased to the \"dominant classes\".\n",
    "\n",
    "In fact, this behavior is pretty much like human, imagine we are giving a multiple choice examination (with 4 choices: A, B, C D) and facing a question we dont know the answer. However, rumor has it that 95% of the correct answer is A, we immediately choose A without thinking much.\n",
    "\n",
    "Whats more? This dataset even has an issue of overlapping between classes, i.e. Many samples belong to multiple classes. The imbalance and the overlapping together, will affect the accuracy of the training.\n",
    "\n",
    "Through grouping the samples by their class, we can point out the overlapping between classes shown in the following scatter plots:\n",
    "\n",
    "<img src=\"Figures/ScPlotS1.jpg\" width=\"350\"/>\n",
    "\n",
    "Lets try having a closer look to the scatter plot by considering only some overlapping classes as followed:\n",
    "\n",
    "<table><tr>\n",
    "<td> <img src=\"Figures/OverlappingClasses.png\"  width= \"250px\"/> </td>\n",
    "<td> <img src=\"Figures/OverlappingClassesS.png\" width= \"250px\"/> </td>\n",
    "<td> <img src=\"Figures/OverlappingClassesA.png\"  width= \"250px\"/> </td>\n",
    "</tr></table>"
   ]
  },
  {
   "cell_type": "markdown",
   "metadata": {},
   "source": [
    "So there are two type of overlapping here in the dataset:\n",
    "- The Samples overlapping. Causation: Sample belong to multiple classes\n",
    "- The Area Overlapping. Causation: Each class occupies a certain region (the outside limit or the edge of the class), these region happen to overlap with each other.\n",
    "\n",
    "Before implementing any clustering algorithms to remove all the overlapping issues, we need to form __metrics__. This helps telling us how good or bad an algorithm is.\n",
    "From this observation, we can design __metrics__ to measure the performance of clustering algorithms. In an optimal solution, two type of overlapping should be resolved. Specifically, all samples belong to a single class (__first metric__), and the boundary region of classes dont overlap to each other (__second metric__).\n",
    "\n",
    "The First metric is called \"samples overlapping\" formed by taking the sum of samples in each class and divide to total samples:\n",
    "\n",
    "\\begin{align}\\label{eq:metric1}\n",
    "\\displaystyle\\sum_{i=1}^{|C|} |c_i| > |P|\n",
    "\\end{align}\n",
    "where $|c_i|$ is number of samples in class $c_i$, $|P|$ is total number of samples (without considering class) in the dataset, i.e, $c_i$ is a subset of $P$: $c_i \\subset P$ and $|C|$ is total number of classes.\n",
    "\n",
    "Second metric is called \"areas overlapping\" property is defined in the second metric or area ratio metric given by:\n",
    "\\begin{align}\\label{eq:metric2}\n",
    "\\displaystyle\\sum_{i=1}^{|C|} S_{c_i} > S_{bound} \\Longleftrightarrow \\frac{\\displaystyle\\sum_{i=1}^{|C|} S_{c_i}}{\\displaystyle S_{bound}} > 1\n",
    "\\end{align}\t\n",
    "where $|S_{c_i}|$ is boundary area of class $c_i$; $|C|$ is total number of classes and $S_{bound}$ is the boundary area of all samples.\n",
    "\n",
    "A simple explaination for the second metric is as followed:\n",
    "\n",
    "<img src=\"Figures/Metric2e.png\" width=\"500\"/>\n",
    "\n",
    "Originally, on the left picture, the black and blue square's areas are overlapped to each other, so $S_{blue} + S_{black} > S_{boundary}$ because of the overlapping area is counted twice. After the clustering algorithm, we obtain the right picture, the overlapping region was treated and shared equally to each square, thus  $S_{blue} + S_{black} = S_{boundary}$"
   ]
  },
  {
   "cell_type": "code",
   "execution_count": null,
   "metadata": {},
   "outputs": [],
   "source": []
  }
 ],
 "metadata": {
  "kernelspec": {
   "display_name": "Python [conda env:py27] *",
   "language": "python",
   "name": "conda-env-py27-py"
  },
  "language_info": {
   "codemirror_mode": {
    "name": "ipython",
    "version": 2
   },
   "file_extension": ".py",
   "mimetype": "text/x-python",
   "name": "python",
   "nbconvert_exporter": "python",
   "pygments_lexer": "ipython2",
   "version": "2.7.15"
  }
 },
 "nbformat": 4,
 "nbformat_minor": 2
}
